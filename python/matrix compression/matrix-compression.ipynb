{
 "cells": [
  {
   "cell_type": "markdown",
   "metadata": {},
   "source": [
    "### package"
   ]
  },
  {
   "cell_type": "code",
   "execution_count": null,
   "metadata": {},
   "outputs": [],
   "source": [
    "import Utils as uti"
   ]
  },
  {
   "cell_type": "markdown",
   "metadata": {},
   "source": [
    "### main"
   ]
  },
  {
   "cell_type": "code",
   "execution_count": 24,
   "metadata": {},
   "outputs": [
    {
     "ename": "AttributeError",
     "evalue": "module 'Utils' has no attribute 'get_data'",
     "output_type": "error",
     "traceback": [
      "\u001b[0;31m---------------------------------------------------------------------------\u001b[0m",
      "\u001b[0;31mAttributeError\u001b[0m                            Traceback (most recent call last)",
      "\u001b[1;32m/home/ji/code/python/matrix compression/matrix-compression.ipynb Cell 4'\u001b[0m in \u001b[0;36m<cell line: 3>\u001b[0;34m()\u001b[0m\n\u001b[1;32m      <a href='vscode-notebook-cell://wsl%2Bubuntu-20.04/home/ji/code/python/matrix%20compression/matrix-compression.ipynb#ch0000003vscode-remote?line=0'>1</a>\u001b[0m \u001b[39m# 上三角    \u001b[39;00m\n\u001b[1;32m      <a href='vscode-notebook-cell://wsl%2Bubuntu-20.04/home/ji/code/python/matrix%20compression/matrix-compression.ipynb#ch0000003vscode-remote?line=1'>2</a>\u001b[0m filepath \u001b[39m=\u001b[39m \u001b[39m\"\u001b[39m\u001b[39mupper-matrix.txt\u001b[39m\u001b[39m\"\u001b[39m\n\u001b[0;32m----> <a href='vscode-notebook-cell://wsl%2Bubuntu-20.04/home/ji/code/python/matrix%20compression/matrix-compression.ipynb#ch0000003vscode-remote?line=2'>3</a>\u001b[0m matrix \u001b[39m=\u001b[39m uti\u001b[39m.\u001b[39;49mget_data(filepath)\n\u001b[1;32m      <a href='vscode-notebook-cell://wsl%2Bubuntu-20.04/home/ji/code/python/matrix%20compression/matrix-compression.ipynb#ch0000003vscode-remote?line=3'>4</a>\u001b[0m \u001b[39mprint\u001b[39m(matrix)\n",
      "\u001b[0;31mAttributeError\u001b[0m: module 'Utils' has no attribute 'get_data'"
     ]
    }
   ],
   "source": [
    "# 上三角    \n",
    "filepath = \"upper-matrix.txt\"\n",
    "matrix = uti.get_data(filepath)\n",
    "print(matrix)"
   ]
  },
  {
   "cell_type": "code",
   "execution_count": null,
   "metadata": {},
   "outputs": [],
   "source": []
  }
 ],
 "metadata": {
  "kernelspec": {
   "display_name": "Python 3.9.12 ('base')",
   "language": "python",
   "name": "python3"
  },
  "language_info": {
   "codemirror_mode": {
    "name": "ipython",
    "version": 3
   },
   "file_extension": ".py",
   "mimetype": "text/x-python",
   "name": "python",
   "nbconvert_exporter": "python",
   "pygments_lexer": "ipython3",
   "version": "3.9.12"
  },
  "orig_nbformat": 4,
  "vscode": {
   "interpreter": {
    "hash": "61a57a4b5406d2de388e2f91097d4e4bcd7d5f4a46f53a795aa28a02eed27fc5"
   }
  }
 },
 "nbformat": 4,
 "nbformat_minor": 2
}
