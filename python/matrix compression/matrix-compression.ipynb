{
 "cells": [
  {
   "cell_type": "markdown",
   "metadata": {},
   "source": [
    "### getData 获取数据"
   ]
  },
  {
   "cell_type": "code",
   "execution_count": 4,
   "metadata": {},
   "outputs": [],
   "source": [
    "# 获取矩阵数据\n",
    "def getData(filepath:list):\n",
    "    # 打开文件\n",
    "    file = open(filepath)\n",
    "    # 文件打开失败\n",
    "    if file is None:\n",
    "        print(\"open file failed\")\n",
    "        exit(0)\n",
    "    # 存储读取的矩阵信息\n",
    "    matrix = []\n",
    "    # 开始读取\n",
    "    while True:\n",
    "        # 读取一行\n",
    "        _row = file.readline()\n",
    "        # 去除最后的换行符\n",
    "        _row = _row[:-1]\n",
    "        # 读取完，break\n",
    "        if len(_row) == 0:\n",
    "            break\n",
    "        # 将读取的一行字符在空格处分割\n",
    "        _row = _row.split(' ')\n",
    "        row = []\n",
    "        # 将字符转换为数字\n",
    "        for i in range(len(_row)):\n",
    "            row.append(int(_row[i]))\n",
    "        matrix.append(row)\n",
    "    file.close()\n",
    "    return matrix\n"
   ]
  },
  {
   "cell_type": "markdown",
   "metadata": {},
   "source": [
    "### main"
   ]
  },
  {
   "cell_type": "code",
   "execution_count": 5,
   "metadata": {},
   "outputs": [
    {
     "name": "stdout",
     "output_type": "stream",
     "text": [
      "[[1, 2, 3, 4], [0, 5, 6, 7], [0, 0, 8, 9], [0, 0, 0, 10]]\n"
     ]
    }
   ],
   "source": [
    "# 上三角    \n",
    "filepath = \"upper-matrix.txt\"\n",
    "matrix = getData(filepath)\n",
    "print(matrix)"
   ]
  }
 ],
 "metadata": {
  "kernelspec": {
   "display_name": "Python 3.9.12 ('base')",
   "language": "python",
   "name": "python3"
  },
  "language_info": {
   "codemirror_mode": {
    "name": "ipython",
    "version": 3
   },
   "file_extension": ".py",
   "mimetype": "text/x-python",
   "name": "python",
   "nbconvert_exporter": "python",
   "pygments_lexer": "ipython3",
   "version": "3.9.12"
  },
  "orig_nbformat": 4,
  "vscode": {
   "interpreter": {
    "hash": "61a57a4b5406d2de388e2f91097d4e4bcd7d5f4a46f53a795aa28a02eed27fc5"
   }
  }
 },
 "nbformat": 4,
 "nbformat_minor": 2
}
