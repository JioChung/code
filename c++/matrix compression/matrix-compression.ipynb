{
 "cells": [
  {
   "cell_type": "markdown",
   "metadata": {},
   "source": [
    "### 内置include"
   ]
  },
  {
   "cell_type": "code",
   "execution_count": 3,
   "metadata": {
    "vscode": {
     "languageId": "python"
    }
   },
   "outputs": [],
   "source": [
    "#include <iostream>\n",
    "#include <fstream>\n",
    "#include <cstring>\n",
    "using namespace std;"
   ]
  },
  {
   "cell_type": "markdown",
   "metadata": {},
   "source": [
    "### 自定义文件"
   ]
  },
  {
   "cell_type": "code",
   "execution_count": 4,
   "metadata": {
    "vscode": {
     "languageId": "python"
    }
   },
   "outputs": [],
   "source": [
    "#include \"matrix.cpp\""
   ]
  },
  {
   "cell_type": "markdown",
   "metadata": {},
   "source": [
    "### main"
   ]
  },
  {
   "cell_type": "code",
   "execution_count": 5,
   "metadata": {
    "vscode": {
     "languageId": "python"
    }
   },
   "outputs": [
    {
     "name": "stderr",
     "output_type": "stream",
     "text": [
      "input_line_12:15:1: error: use of undeclared identifier 'print_hello'\n",
      "print_hello();\n",
      "^\n"
     ]
    },
    {
     "ename": "Interpreter Error",
     "evalue": "",
     "output_type": "error",
     "traceback": [
      "Interpreter Error: "
     ]
    }
   ],
   "source": [
    "ifstream fin;\n",
    "    fin.open(\"input-UpperTriangular.txt\");\n",
    "    if(!fin.is_open()){\n",
    "        cout<<\"open file fail\"<<endl;\n",
    "    }\n",
    "    char buff[1024] = {0};\n",
    "    while(fin.getline(buff, sizeof(buff))){\n",
    "        for(char c : buff)  \n",
    "            cout<<c;\n",
    "        cout<<strlen(buff)<<endl;\n",
    "    }\n",
    "\n",
    "    fin.close();\n",
    "    return 0;\n",
    "\n",
    "print_hello();"
   ]
  },
  {
   "cell_type": "code",
   "execution_count": null,
   "metadata": {
    "vscode": {
     "languageId": "python"
    }
   },
   "outputs": [],
   "source": []
  }
 ],
 "metadata": {
  "kernelspec": {
   "display_name": "C++17",
   "language": "C++17",
   "name": "xcpp17"
  },
  "language_info": {
   "codemirror_mode": "text/x-c++src",
   "file_extension": ".cpp",
   "mimetype": "text/x-c++src",
   "name": "C++17",
   "version": "17"
  },
  "orig_nbformat": 4,
  "vscode": {
   "interpreter": {
    "hash": "046dfacd1769d30f06437acd3e1fbde66a64aa90bc2a70b92d6b4b273ec7a78d"
   }
  }
 },
 "nbformat": 4,
 "nbformat_minor": 2
}
